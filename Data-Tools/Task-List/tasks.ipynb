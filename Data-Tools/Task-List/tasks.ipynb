{
 "cells": [
  {
   "cell_type": "code",
   "execution_count": 38,
   "metadata": {},
   "outputs": [
    {
     "name": "stdout",
     "output_type": "stream",
     "text": [
      "Number of tasks: 71\n"
     ]
    }
   ],
   "source": [
    "import pandas as pd\n",
    "\n",
    "# load task data\n",
    "classification_tasks = pd.read_csv('task_list.csv', index_col=False)\n",
    "print('Number of tasks:', len(classification_tasks))"
   ]
  },
  {
   "cell_type": "code",
   "execution_count": 39,
   "metadata": {},
   "outputs": [
    {
     "name": "stdout",
     "output_type": "stream",
     "text": [
      "Number of tasks: 26\n"
     ]
    }
   ],
   "source": [
    "# subset tasks with at least 5000 samples\n",
    "classification_tasks = classification_tasks[classification_tasks['rows'] <= 5000]\n",
    "# subset tasks with at least 50 features and at most 500 features\n",
    "classification_tasks = classification_tasks[(classification_tasks['features'] <= 500)]\n",
    "# how many tasks are left?\n",
    "print('Number of tasks:', len(classification_tasks))"
   ]
  },
  {
   "cell_type": "code",
   "execution_count": 40,
   "metadata": {},
   "outputs": [
    {
     "name": "stdout",
     "output_type": "stream",
     "text": [
      "    task_id  features  rows            type\n",
      "4    146818        42   621  classification\n",
      "27   359954        91   662  classification\n",
      "28   359955         4   673  classification\n",
      "19   190146        18   761  classification\n",
      "8    168757        61   900  classification\n",
      "29   359956        41   949  classification\n",
      "31   359958        37  1312  classification\n",
      "32   359959        24  1325  classification\n",
      "0      2073         8  1335  classification\n",
      "33   359960        21  1555  classification\n",
      "9    168784        27  1746  classification\n",
      "34   359961       216  1800  classification\n",
      "35   359962        21  1898  classification\n",
      "36   359963        16  2079  classification\n",
      "18   190137        72  2280  classification\n",
      "13   168911       279  2685  classification\n",
      "20   190392       259  2826  classification\n",
      "37   359964       360  2867  classification\n",
      "38   359965        73  2876  classification\n",
      "22   190411        48  3732  classification\n",
      "5    146820         5  4355  classification\n",
      "47   359974        11  4408  classification\n",
      "41   359968        32  4500  classification\n",
      "48   359975        36  4590  classification\n",
      "45   359972        20  4611  classification\n",
      "7    168350         5  4863  classification\n"
     ]
    }
   ],
   "source": [
    "# sort tasks by number of rows\n",
    "classification_tasks = classification_tasks.sort_values(by='rows', ascending=True)\n",
    "print(classification_tasks)"
   ]
  },
  {
   "cell_type": "code",
   "execution_count": 41,
   "metadata": {},
   "outputs": [
    {
     "name": "stdout",
     "output_type": "stream",
     "text": [
      "task 0 146818\n",
      "task 1 359958\n",
      "task 2 359963\n",
      "task 3 190411\n",
      "task 4 168350\n"
     ]
    }
   ],
   "source": [
    "# get 5 tasks from the remaining tasks\n",
    "print('task 0', classification_tasks.iloc[int(len(classification_tasks) * 0.00)]['task_id'])\n",
    "print('task 1', classification_tasks.iloc[int(len(classification_tasks) * 0.25)]['task_id'])\n",
    "print('task 2', classification_tasks.iloc[int(len(classification_tasks) * 0.50)]['task_id'])\n",
    "print('task 3', classification_tasks.iloc[int(len(classification_tasks) * 0.75)]['task_id'])\n",
    "print('task 4', classification_tasks.iloc[int(len(classification_tasks) - 1)]['task_id'])"
   ]
  },
  {
   "cell_type": "code",
   "execution_count": null,
   "metadata": {},
   "outputs": [],
   "source": [
    "# these are the tasks we will use for preliminary runs"
   ]
  }
 ],
 "metadata": {
  "kernelspec": {
   "display_name": "tpot2-py-3.10",
   "language": "python",
   "name": "python3"
  },
  "language_info": {
   "codemirror_mode": {
    "name": "ipython",
    "version": 3
   },
   "file_extension": ".py",
   "mimetype": "text/x-python",
   "name": "python",
   "nbconvert_exporter": "python",
   "pygments_lexer": "ipython3",
   "version": "3.10.14"
  }
 },
 "nbformat": 4,
 "nbformat_minor": 2
}
